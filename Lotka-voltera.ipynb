{
  "cells": [
    {
      "cell_type": "markdown",
      "metadata": {},
      "source": [
        "# Lotka-Volterra Predator-Prey Model\n",
        "This notebook demonstrates the implementation of the Lotka-Volterra predator-prey model using Python.\n",
        "The model simulates the interaction between predator and prey populations over time using a system of ordinary differential equations (ODEs).\n",
        "We will use the `scipy` library to solve the ODEs and `matplotlib` to visualize the results."
      ]
    },
    {
      "cell_type": "code",
      "execution_count": null,
      "metadata": {},
      "outputs": [],
      "source": [
        "# Import necessary libraries\n",
        "import numpy as np\n",
        "from scipy.integrate import odeint\n",
        "import matplotlib.pyplot as plt"
      ]
    },
    {
      "cell_type": "markdown",
      "metadata": {},
      "source": [
        "## Define the Lotka-Volterra Model\n",
        "The Lotka-Volterra equations describe the dynamics of biological systems in which two species interact, one as a predator and the other as prey."
      ]
    },
    {
      "cell_type": "code",
      "execution_count": null,
      "metadata": {},
      "outputs": [],
      "source": [
        "# Define the Lotka-Volterra model\n",
        "def lotka_volterra(state, t, params):\n",
        "    x, y = state  # Prey and predator populations\n",
        "    alpha, beta, delta, gamma = params  # Parameters\n",
        "    dx = alpha * x - beta * x * y\n",
        "    dy = delta * x * y - gamma * y\n",
        "    return [dx, dy]"
      ]
    },
    {
      "cell_type": "markdown",
      "metadata": {},
      "source": [
        "## Initial Conditions, Parameters, and Time Sequence\n",
        "- Initial populations of prey and predators: `x = 40`, `y = 9`.\n",
        "- Parameters:\n",
        "  - `alpha = 0.1`: Prey birth rate.\n",
        "  - `beta = 0.02`: Predation rate.\n",
        "  - `delta = 0.01`: Predator reproduction rate.\n",
        "  - `gamma = 0.1`: Predator death rate.\n",
        "- Time sequence: Simulate from `t = 0` to `t = 200` in steps of 1."
      ]
    },
    {
      "cell_type": "code",
      "execution_count": null,
      "metadata": {},
      "outputs": [],
      "source": [
        "# Initial conditions\n",
        "state = [40, 9]  # Prey and predator populations\n",
        "\n",
        "# Parameters\n",
        "params = [0.1, 0.02, 0.01, 0.1]\n",
        "\n",
        "# Time sequence\n",
        "t = np.linspace(0, 200, 201)"
      ]
    },
    {
      "cell_type": "markdown",
      "metadata": {},
      "source": [
        "## Solve the ODE\n",
        "Using the `odeint` function from the `scipy.integrate` module, we solve the Lotka-Volterra equations for the given initial conditions and parameters."
      ]
    },
    {
      "cell_type": "code",
      "execution_count": null,
      "metadata": {},
      "outputs": [],
      "source": [
        "# Solve the ODE\n",
        "solution = odeint(lotka_volterra, state, t, args=(params,))\n",
        "\n",
        "# Extract prey and predator populations\n",
        "prey, predators = solution.T"
      ]
    },
    {
      "cell_type": "markdown",
      "metadata": {},
      "source": [
        "## Visualize the Results\n",
        "Using `matplotlib`, we plot the prey and predator populations over time to visualize their dynamics."
      ]
    },
    {
      "cell_type": "code",
      "execution_count": null,
      "metadata": {},
      "outputs": [],
      "source": [
        "# Plot the results\n",
        "plt.figure(figsize=(10, 6))\n",
        "plt.plot(t, prey, label='Prey Population', color='blue')\n",
        "plt.plot(t, predators, label='Predator Population', color='red')\n",
        "plt.title('Lotka-Volterra Predator-Prey Model')\n",
        "plt.xlabel('Time')\n",
        "plt.ylabel('Population')\n",
        "plt.legend()\n",
        "plt.grid()\n",
        "plt.show()"
      ]
    }
  ],
  "metadata": {
    "kernelspec": {
      "display_name": "Python 3",
      "language": "python",
      "name": "python3"
    },
    "language_info": {
      "codemirror_mode": {
        "name": "ipython",
        "version": 3
      },
      "file_extension": ".py",
      "mimetype": "text/x-python",
      "name": "python",
      "nbconvert_exporter": "python",
      "pygments_lexer": "ipython3",
      "version": "3.8"
    }
  },
  "nbformat": 4,
  "nbformat_minor": 2
}

